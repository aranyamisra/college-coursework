{
  "cells": [
    {
      "cell_type": "markdown",
      "metadata": {
        "id": "view-in-github",
        "colab_type": "text"
      },
      "source": [
        "<a href=\"https://colab.research.google.com/github/aranyamisra/college-coursework/blob/main/typingtest.ipynb\" target=\"_parent\"><img src=\"https://colab.research.google.com/assets/colab-badge.svg\" alt=\"Open In Colab\"/></a>"
      ]
    },
    {
      "cell_type": "code",
      "execution_count": null,
      "metadata": {
        "colab": {
          "base_uri": "https://localhost:8080/"
        },
        "id": "nY14a6YpZKI_",
        "outputId": "26008687-88fd-41ec-9e97-5ae77dec8be4"
      },
      "outputs": [
        {
          "output_type": "stream",
          "name": "stdout",
          "text": [
            "Welcome to our Typing Test!\n",
            "\n",
            "Type the given words as fast as you can!\n",
            "\n",
            "summer broccoli story optimization onion cloud apple plum car flower\n",
            "\n",
            "Press enter when ready...\n",
            "\n",
            "Start typing: summer broccolli story otpaim onion cloud apple plum car flower\n",
            "\n",
            "Time Taken: 12.78 seconds\n",
            "Typing Speed: 46.95 WPM\n",
            "Errors: 2\n",
            "Adjusted Speed (after errors): 37.56 WPM\n"
          ]
        }
      ],
      "source": [
        "import time\n",
        "import random\n",
        "\n",
        "def get_words():\n",
        "    n = 10\n",
        "\n",
        "    with open(\"words.txt\", \"r\") as file:\n",
        "        words = file.read().split()\n",
        "\n",
        "    random_words = random.sample(words, n)\n",
        "    sentence = \" \".join(random_words)\n",
        "    return sentence\n",
        "\n",
        "def count_word_errors(original, user_input):\n",
        "    original_words = original.split()\n",
        "    user_words = user_input.split()\n",
        "\n",
        "    min_length = min(len(original_words), len(user_words))\n",
        "    errors = 0\n",
        "\n",
        "    for i in range(min_length):\n",
        "        if original_words[i] != user_words[i]:\n",
        "            errors += 1\n",
        "\n",
        "    errors += abs(len(original_words) - len(user_words))  # extra or missing words\n",
        "    return errors\n",
        "\n",
        "def typing_speed_test():\n",
        "    print(\"Welcome to our Typing Test!\\n\")\n",
        "    print(\"Type the given words as fast as you can!\")\n",
        "\n",
        "    sentence = get_words()\n",
        "    print(\"\\n\" + sentence + \"\\n\")\n",
        "\n",
        "    input(\"Press enter when ready...\")\n",
        "\n",
        "    start_time = time.time()\n",
        "    user_input = input(\"\\nStart typing: \")\n",
        "    end_time = time.time()\n",
        "\n",
        "    total_time = end_time - start_time\n",
        "    total_time_minutes = total_time / 60\n",
        "\n",
        "    if total_time_minutes == 0:\n",
        "        total_time_minutes = 1 / 60\n",
        "\n",
        "    errors = count_word_errors(sentence, user_input)\n",
        "\n",
        "    word_count = len(sentence.split())  # Count actual words in sentence\n",
        "    user_word_count = len(user_input.split())  # Count words typed by user\n",
        "    wpm = user_word_count / total_time_minutes  # Words per minute\n",
        "\n",
        "    adjusted_wpm = max(0, wpm - (errors / total_time_minutes))\n",
        "\n",
        "    print(f\"\\nTime Taken: {round(total_time, 2)} seconds\")\n",
        "    print(f\"Typing Speed: {round(wpm, 2)} WPM\")\n",
        "    print(f\"Errors: {errors}\")\n",
        "    print(f\"Adjusted Speed (after errors): {round(adjusted_wpm, 2)} WPM\")\n",
        "\n",
        "\n",
        "typing_speed_test()"
      ]
    }
  ],
  "metadata": {
    "colab": {
      "provenance": [],
      "authorship_tag": "ABX9TyPkAla2+w+UDbhMAAgSAJXX",
      "include_colab_link": true
    },
    "kernelspec": {
      "display_name": "Python 3",
      "name": "python3"
    },
    "language_info": {
      "name": "python"
    }
  },
  "nbformat": 4,
  "nbformat_minor": 0
}